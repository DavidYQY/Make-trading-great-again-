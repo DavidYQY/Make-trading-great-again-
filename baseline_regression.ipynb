{
 "cells": [
  {
   "cell_type": "code",
   "execution_count": 88,
   "metadata": {},
   "outputs": [],
   "source": [
    "import json\n",
    "import collections\n",
    "import matplotlib.pyplot as plt\n",
    "import numpy as np\n",
    "import re\n",
    "import csv\n",
    "import pandas as pd\n",
    "import nltk\n",
    "from sklearn import preprocessing\n",
    "import time\n",
    "from datetime import datetime\n",
    "from datetime import timedelta\n",
    "\n",
    "from sklearn.linear_model import LinearRegression\n",
    "from sklearn.neighbors import KNeighborsRegressor\n",
    "from sklearn.linear_model import LassoCV\n",
    "from sklearn.ensemble import RandomForestRegressor\n",
    "\n",
    "from sklearn.metrics import mean_squared_error\n",
    "from sklearn.preprocessing import MinMaxScaler\n",
    "from sklearn.model_selection import train_test_split"
   ]
  },
  {
   "cell_type": "code",
   "execution_count": 89,
   "metadata": {},
   "outputs": [],
   "source": [
    "def release_base_dat():\n",
    "    with open('data/processed_trumptwitterarchive.txt', 'r') as data_file:\n",
    "        json_data = data_file.read()\n",
    "\n",
    "    data = json.loads(json_data)\n",
    "\n",
    "    times = [d['created_at'] for d in data]\n",
    "    favorite_count = [d['favorite_count'] for d in data]\n",
    "    retweet_count = [d['retweet_count'] for d in data]\n",
    "    texts = [\" \".join(d['processed_text']) for d in data]\n",
    "    baseline_dat = pd.DataFrame({'created_time': pd.to_datetime(times),\n",
    "#                                 'favorite_count': favorite_count, \n",
    "#                                'retweet_count': retweet_count, \n",
    "                                'texts': texts})  # not including favorite_count and retweet_count\n",
    "\n",
    "    top_20_words = [\"china\", \"billion\", \"products\", \"democrats\", \"great\",\"dollars\",\"tariffs\",\"country\", \"mueller\",\"border\",\\\n",
    "                     \"president\", \"congressman\", \"people\", \"korea\", \"party\", \"years\", \"farmers\", \"going\", \"trade\", \"never\"]\n",
    "\n",
    "    for word in top_20_words:\n",
    "        baseline_dat[word] = baseline_dat['texts'].apply(lambda x: 1 if word in x else 0)\n",
    "\n",
    "    display(baseline_dat.head())\n",
    "    baseline_dat.to_csv('data/baseline_data_no_count.csv', index = False)"
   ]
  },
  {
   "cell_type": "code",
   "execution_count": 90,
   "metadata": {},
   "outputs": [],
   "source": [
    "def merge_data(baseline_dir = 'data/baseline_data_no_count.csv', \n",
    "               senti_dir = 'data/sentimentAnalysis/senti.csv', \n",
    "               spx_dir = 'data/all_cleaned_SPX_data.csv', \n",
    "               m = 5):\n",
    "    \n",
    "    df1= pd.read_csv(baseline_dir)\n",
    "    senti_data = pd.read_csv(senti_dir)\n",
    "    df2 = senti_data[['time', 'positive_count', 'negative_count']]\n",
    "    df = pd.merge(df1, df2, left_on = 'created_time', right_on='time').drop(['time'], axis=1)\n",
    "    \n",
    "    df['created_time'] = df['created_time'].apply(lambda x: pd.to_datetime(x))\n",
    "    df['begin_time'] = df['created_time'].dt.floor('1min')\n",
    "    df['end_time'] = df['begin_time'] + timedelta(minutes=m)\n",
    "    \n",
    "    data_econ = pd.read_csv('data/all_cleaned_SPX_data.csv')\n",
    "    data_econ['datetime'] = pd.to_datetime(data_econ['datetime'], utc = True)\n",
    "    df_econ = data_econ[['datetime', 'close']]\n",
    "    \n",
    "    df_merge1 = pd.merge(df, df_econ, left_on = 'begin_time', right_on='datetime').drop(['datetime'], axis=1)\n",
    "    df_merge2 = pd.merge(df_merge1, df_econ, left_on = 'end_time', right_on='datetime').drop(['datetime'], axis=1)\n",
    "    \n",
    "    df_merge2['returns'] = df_merge2['close_y']/df_merge2['close_x']-1\n",
    "    \n",
    "    df_all = df_merge2.drop(['created_time','begin_time','end_time', 'close_x','close_y', 'texts'], axis=1)\n",
    "    \n",
    "    return df_all\n",
    "    "
   ]
  },
  {
   "cell_type": "code",
   "execution_count": 91,
   "metadata": {},
   "outputs": [],
   "source": [
    "def regression_models(df_all):\n",
    "    df_all = df_all.copy()\n",
    "    X_train, X_test, y_train, y_test =train_test_split(df_all.loc[:, df_all.columns != 'returns'], \n",
    "                                                         df_all.returns, test_size=0.2)\n",
    "    \n",
    "    scores = {}\n",
    "    min_max_scaler = MinMaxScaler().fit(X_train)\n",
    "    xtrain_scaled = min_max_scaler.transform(X_train.values)\n",
    "    xtest_scaled = min_max_scaler.transform(X_test.values)\n",
    "    X_train_scaled = pd.DataFrame(xtrain_scaled, columns = X_train.columns, index = X_train.index)\n",
    "    X_test_scaled = pd.DataFrame(xtest_scaled, columns = X_test.columns, index = X_test.index)\n",
    "    \n",
    "    # Linear Regression\n",
    "    Linear_model = LinearRegression()\n",
    "    Linear_model.fit(X_train_scaled, y_train)\n",
    " \n",
    "    # Lasso cv\n",
    "    CV_lasso = LassoCV(cv = 3, max_iter = 10000)\n",
    "    CV_lasso.fit(X_train_scaled, y_train)\n",
    "    \n",
    "    # randomforest\n",
    "    rf = RandomForestRegressor(n_estimators = 10)\n",
    "    rf.fit(X_train_scaled,y_train)\n",
    "    \n",
    "    models = [Linear_model, CV_lasso, rf]\n",
    "    names = ['Linear Regression', \"Lasso CV\", \"randomforest\"]\n",
    "    \n",
    "    for name, model in zip(names, models):\n",
    "        scores[name] = [mean_squared_error(model.predict(X_train_scaled), y_train), mean_squared_error(model.predict(X_test_scaled), y_test)]\n",
    "    \n",
    "    return scores\n"
   ]
  },
  {
   "cell_type": "code",
   "execution_count": 92,
   "metadata": {},
   "outputs": [
    {
     "data": {
      "text/plain": [
       "{'Linear Regression': [4.198582261887819e-07, 4.3457386308789533e-07],\n",
       " 'Lasso CV': [4.2131317210235866e-07, 4.345085161285479e-07],\n",
       " 'randomforest': [3.7696402729512386e-07, 4.6026561695154576e-07]}"
      ]
     },
     "execution_count": 92,
     "metadata": {},
     "output_type": "execute_result"
    }
   ],
   "source": [
    "regression_models(merge_data())"
   ]
  },
  {
   "cell_type": "code",
   "execution_count": 93,
   "metadata": {
    "scrolled": true
   },
   "outputs": [],
   "source": [
    "def combined(m, times = 5):\n",
    "    df_all = merge_data(m = m)\n",
    "    \n",
    "    import collections\n",
    "    names = ['Linear Regression', \"Lasso CV\", \"randomforest\"]\n",
    "    scores = collections.defaultdict(list)\n",
    "    for i in range(times):\n",
    "        temp = regression_models(df_all)\n",
    "        for n in names:\n",
    "            scores[n].append(temp[n][1]) # only test score\n",
    "            \n",
    "    for n in names:\n",
    "        scores[n] = np.mean(scores[n])\n",
    "    return scores"
   ]
  },
  {
   "cell_type": "code",
   "execution_count": 94,
   "metadata": {},
   "outputs": [
    {
     "name": "stderr",
     "output_type": "stream",
     "text": [
      "\n",
      "  0%|          | 0/20 [00:00<?, ?it/s]\u001b[A\n",
      "  5%|▌         | 1/20 [00:03<01:08,  3.61s/it]\u001b[A\n",
      " 10%|█         | 2/20 [00:07<01:06,  3.68s/it]\u001b[A\n",
      " 15%|█▌        | 3/20 [00:11<01:03,  3.74s/it]\u001b[A\n",
      " 20%|██        | 4/20 [00:15<01:00,  3.78s/it]\u001b[A\n",
      " 25%|██▌       | 5/20 [00:19<00:57,  3.83s/it]\u001b[A\n",
      " 30%|███       | 6/20 [00:23<00:54,  3.92s/it]\u001b[A\n",
      " 35%|███▌      | 7/20 [00:27<00:52,  4.02s/it]\u001b[A\n",
      " 40%|████      | 8/20 [00:31<00:48,  4.07s/it]\u001b[A\n",
      " 45%|████▌     | 9/20 [00:35<00:44,  4.08s/it]\u001b[A\n",
      " 50%|█████     | 10/20 [00:39<00:40,  4.03s/it]\u001b[A\n",
      " 55%|█████▌    | 11/20 [00:43<00:35,  4.00s/it]\u001b[A\n",
      " 60%|██████    | 12/20 [00:47<00:31,  3.97s/it]\u001b[A\n",
      " 65%|██████▌   | 13/20 [00:51<00:27,  3.96s/it]\u001b[A\n",
      " 70%|███████   | 14/20 [00:55<00:23,  3.93s/it]\u001b[A\n",
      " 75%|███████▌  | 15/20 [00:59<00:19,  3.92s/it]\u001b[A\n",
      " 80%|████████  | 16/20 [01:03<00:15,  3.89s/it]\u001b[A\n",
      " 85%|████████▌ | 17/20 [01:07<00:11,  3.94s/it]\u001b[A\n",
      " 90%|█████████ | 18/20 [01:11<00:07,  3.94s/it]\u001b[A\n",
      " 95%|█████████▌| 19/20 [01:14<00:03,  3.91s/it]\u001b[A\n",
      "100%|██████████| 20/20 [01:18<00:00,  3.96s/it]\u001b[A"
     ]
    }
   ],
   "source": [
    "from tqdm import tqdm\n",
    "scores = {}\n",
    "ms = range(1, 60, 3)\n",
    "for m in tqdm(ms):\n",
    "    scores[m] = combined(m) "
   ]
  },
  {
   "cell_type": "code",
   "execution_count": 96,
   "metadata": {
    "scrolled": false
   },
   "outputs": [
    {
     "data": {
      "text/plain": [
       "<matplotlib.legend.Legend at 0x1a24681c88>"
      ]
     },
     "execution_count": 96,
     "metadata": {},
     "output_type": "execute_result"
    },
    {
     "data": {
      "image/png": "[encoded data removed]",
      "text/plain": [
       "<Figure size 720x504 with 1 Axes>"
      ]
     },
     "metadata": {
      "needs_background": "light"
     },
     "output_type": "display_data"
    }
   ],
   "source": [
    "fig, ax = plt.subplots(1,1,figsize = (10,7))\n",
    "names = ['Linear Regression', \"Lasso CV\", \"randomforest\"]\n",
    "for n in names:\n",
    "    test_scores = [score[n] for score in scores.values()]\n",
    "    ax.plot(ms, test_scores, label = n)\n",
    "    ax.set_xlabel('minutes')\n",
    "    ax.set_ylabel('test set mse')\n",
    "    ax.set_title('Test Set MSE for Different After-tweet Time Interval')\n",
    "ax.legend()"
   ]
  },
  {
   "cell_type": "code",
   "execution_count": 99,
   "metadata": {},
   "outputs": [],
   "source": [
    "fig.savefig('test_set_mse.png', dpi=1200)"
   ]
  },
  {
   "cell_type": "code",
   "execution_count": null,
   "metadata": {},
   "outputs": [],
   "source": []
  }
 ],
 "metadata": {
  "kernelspec": {
   "display_name": "Python 3",
   "language": "python",
   "name": "python3"
  },
  "language_info": {
   "codemirror_mode": {
    "name": "ipython",
    "version": 3
   },
   "file_extension": ".py",
   "mimetype": "text/x-python",
   "name": "python",
   "nbconvert_exporter": "python",
   "pygments_lexer": "ipython3",
   "version": "3.7.3"
  }
 },
 "nbformat": 4,
 "nbformat_minor": 2
}
