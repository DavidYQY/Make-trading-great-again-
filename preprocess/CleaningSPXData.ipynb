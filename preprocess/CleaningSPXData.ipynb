{
 "cells": [
  {
   "cell_type": "code",
   "execution_count": 61,
   "metadata": {},
   "outputs": [],
   "source": [
    "import numpy as np\n",
    "import pandas as pd\n",
    "import matplotlib\n",
    "import matplotlib.pyplot as plt\n",
    "%matplotlib inline"
   ]
  },
  {
   "cell_type": "code",
   "execution_count": 26,
   "metadata": {},
   "outputs": [],
   "source": [
    "def spx_process(filename):\n",
    "    raw = pd.read_csv(filename, \n",
    "                      names = [\"datetime\", \"open\", \"high\", \"low\", \"close\"])\n",
    "    raw.datetime = pd.to_datetime(raw.datetime, format = '%Y.%m.%d %H:%M:%S')\n",
    "    raw[\"date\"] = raw.datetime.dt.date\n",
    "    raw[\"time\"] = raw.datetime.dt.time\n",
    "    if filename == \"SPX_2014_12.csv\":\n",
    "        data = raw.loc[raw.datetime > \"2013-01-01\",:]\n",
    "    elif filename == \"SPX_2016_12.csv\":\n",
    "        data = raw.loc[raw.datetime > \"2015-01-01\",:]\n",
    "    else:\n",
    "        data = raw\n",
    "    before_930 = pd.to_timedelta(data.time.astype(str)) < pd.to_timedelta('09:30:00')\n",
    "    after_359 = pd.to_timedelta(data.time.astype(str)) > pd.to_timedelta('15:59:00')\n",
    "    delete_index = before_930 | after_359\n",
    "    data = data.loc[~delete_index,:]\n",
    "    return data"
   ]
  },
  {
   "cell_type": "code",
   "execution_count": 27,
   "metadata": {},
   "outputs": [],
   "source": [
    "data1 = spx_process(\"SPX_2014_12.csv\")"
   ]
  },
  {
   "cell_type": "code",
   "execution_count": 28,
   "metadata": {},
   "outputs": [],
   "source": [
    "data2 = spx_process(\"SPX_2016_12.csv\")"
   ]
  },
  {
   "cell_type": "code",
   "execution_count": 29,
   "metadata": {},
   "outputs": [],
   "source": [
    "data3 = spx_process(\"SPX_2018_12.csv\")"
   ]
  },
  {
   "cell_type": "code",
   "execution_count": 30,
   "metadata": {},
   "outputs": [],
   "source": [
    "data4 = spx_process(\"SPX_2019_12.csv\")"
   ]
  },
  {
   "cell_type": "code",
   "execution_count": null,
   "metadata": {},
   "outputs": [],
   "source": []
  },
  {
   "cell_type": "code",
   "execution_count": 31,
   "metadata": {},
   "outputs": [],
   "source": [
    "data = pd.concat([data1, data2, data3, data4], axis=0)"
   ]
  },
  {
   "cell_type": "code",
   "execution_count": 32,
   "metadata": {},
   "outputs": [],
   "source": [
    "data = data.reset_index().drop(columns = [\"index\", \"time\", \"date\"])"
   ]
  },
  {
   "cell_type": "code",
   "execution_count": 33,
   "metadata": {},
   "outputs": [],
   "source": [
    "data.to_csv('all_cleaned_SPX_data.csv', index=False)"
   ]
  },
  {
   "cell_type": "code",
   "execution_count": null,
   "metadata": {},
   "outputs": [],
   "source": []
  },
  {
   "cell_type": "code",
   "execution_count": 34,
   "metadata": {},
   "outputs": [],
   "source": [
    "data_every_five_min = data.loc[range(0, data.shape[0], 5), \"close\"]"
   ]
  },
  {
   "cell_type": "code",
   "execution_count": 53,
   "metadata": {},
   "outputs": [],
   "source": [
    "five_min_return = (data_every_five_min.diff()/data_every_five_min)[1:]"
   ]
  },
  {
   "cell_type": "code",
   "execution_count": 58,
   "metadata": {},
   "outputs": [],
   "source": [
    "five_min_up_or_down = pd.Series(five_min_return).map(lambda x: \"down\" if x < 0 else \"up\")"
   ]
  },
  {
   "cell_type": "code",
   "execution_count": 69,
   "metadata": {},
   "outputs": [
    {
     "data": {
      "text/plain": [
       "up      0.512593\n",
       "down    0.487407\n",
       "Name: close, dtype: float64"
      ]
     },
     "execution_count": 69,
     "metadata": {},
     "output_type": "execute_result"
    }
   ],
   "source": [
    "five_min_up_or_down.value_counts(normalize=True)"
   ]
  },
  {
   "cell_type": "code",
   "execution_count": null,
   "metadata": {},
   "outputs": [],
   "source": []
  }
 ],
 "metadata": {
  "kernelspec": {
   "display_name": "Python 3",
   "language": "python",
   "name": "python3"
  },
  "language_info": {
   "codemirror_mode": {
    "name": "ipython",
    "version": 3
   },
   "file_extension": ".py",
   "mimetype": "text/x-python",
   "name": "python",
   "nbconvert_exporter": "python",
   "pygments_lexer": "ipython3",
   "version": "3.7.3"
  }
 },
 "nbformat": 4,
 "nbformat_minor": 2
}
