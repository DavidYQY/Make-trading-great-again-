{
 "cells": [
  {
   "cell_type": "code",
   "execution_count": 1,
   "metadata": {},
   "outputs": [],
   "source": [
    "import numpy as np\n",
    "import pandas as pd"
   ]
  },
  {
   "cell_type": "code",
   "execution_count": 2,
   "metadata": {},
   "outputs": [],
   "source": [
    "def spx_process(filename):\n",
    "    raw = pd.read_csv(filename, \n",
    "                      names = [\"datetime\", \"open\", \"high\", \"low\", \"close\"])\n",
    "    raw.datetime = pd.to_datetime(raw.datetime, format = '%Y.%m.%d %H:%M:%S')\n",
    "    raw[\"date\"] = raw.datetime.dt.date\n",
    "    raw[\"time\"] = raw.datetime.dt.time\n",
    "    if filename == \"SPX_2014_12.csv\":\n",
    "        data = raw.loc[raw.datetime > \"2013-01-01\",:]\n",
    "    elif filename == \"SPX_2016_12.csv\":\n",
    "        data = raw.loc[raw.datetime > \"2015-01-01\",:]\n",
    "    else:\n",
    "        data = raw\n",
    "    before_930 = pd.to_timedelta(data.time.astype(str)) < pd.to_timedelta('09:30:00')\n",
    "    after_359 = pd.to_timedelta(data.time.astype(str)) > pd.to_timedelta('15:59:00')\n",
    "    delete_index = before_930 | after_359\n",
    "    data = data.loc[~delete_index,:]\n",
    "    data = data.reset_index().drop(columns = [\"index\", \"time\", \"date\"])\n",
    "    return data"
   ]
  },
  {
   "cell_type": "code",
   "execution_count": 3,
   "metadata": {},
   "outputs": [],
   "source": [
    "data1 = spx_process(\"../data/SPX_2014_12.csv\")"
   ]
  },
  {
   "cell_type": "code",
   "execution_count": 4,
   "metadata": {},
   "outputs": [],
   "source": [
    "data2 = spx_process(\"../data/SPX_2016_12.csv\")"
   ]
  },
  {
   "cell_type": "code",
   "execution_count": 5,
   "metadata": {},
   "outputs": [],
   "source": [
    "data3 = spx_process(\"../data/SPX_2018_12.csv\")"
   ]
  },
  {
   "cell_type": "code",
   "execution_count": 6,
   "metadata": {},
   "outputs": [],
   "source": [
    "data4 = spx_process(\"../data/SPX_2019_12.csv\")"
   ]
  },
  {
   "cell_type": "code",
   "execution_count": null,
   "metadata": {},
   "outputs": [],
   "source": []
  },
  {
   "cell_type": "code",
   "execution_count": 7,
   "metadata": {},
   "outputs": [],
   "source": [
    "data = pd.concat([data1, data2, data3, data4], axis=0)"
   ]
  },
  {
   "cell_type": "code",
   "execution_count": 8,
   "metadata": {},
   "outputs": [],
   "source": [
    "data.to_csv('../data/all_cleaned_SPX_data.csv', index=False)"
   ]
  },
  {
   "cell_type": "code",
   "execution_count": null,
   "metadata": {},
   "outputs": [],
   "source": []
  },
  {
   "cell_type": "code",
   "execution_count": 9,
   "metadata": {},
   "outputs": [
    {
     "data": {
      "text/html": [
       "<div>\n",
       "<style scoped>\n",
       "    .dataframe tbody tr th:only-of-type {\n",
       "        vertical-align: middle;\n",
       "    }\n",
       "\n",
       "    .dataframe tbody tr th {\n",
       "        vertical-align: top;\n",
       "    }\n",
       "\n",
       "    .dataframe thead th {\n",
       "        text-align: right;\n",
       "    }\n",
       "</style>\n",
       "<table border=\"1\" class=\"dataframe\">\n",
       "  <thead>\n",
       "    <tr style=\"text-align: right;\">\n",
       "      <th></th>\n",
       "      <th>datetime</th>\n",
       "      <th>open</th>\n",
       "      <th>high</th>\n",
       "      <th>low</th>\n",
       "      <th>close</th>\n",
       "    </tr>\n",
       "  </thead>\n",
       "  <tbody>\n",
       "    <tr>\n",
       "      <th>0</th>\n",
       "      <td>2012-12-31 11:00:00</td>\n",
       "      <td>1405.22</td>\n",
       "      <td>1405.33</td>\n",
       "      <td>1405.14</td>\n",
       "      <td>1405.28</td>\n",
       "    </tr>\n",
       "    <tr>\n",
       "      <th>1</th>\n",
       "      <td>2012-12-31 11:01:00</td>\n",
       "      <td>1405.29</td>\n",
       "      <td>1406.35</td>\n",
       "      <td>1405.27</td>\n",
       "      <td>1406.35</td>\n",
       "    </tr>\n",
       "    <tr>\n",
       "      <th>2</th>\n",
       "      <td>2012-12-31 11:02:00</td>\n",
       "      <td>1406.59</td>\n",
       "      <td>1408.14</td>\n",
       "      <td>1406.59</td>\n",
       "      <td>1407.06</td>\n",
       "    </tr>\n",
       "    <tr>\n",
       "      <th>3</th>\n",
       "      <td>2012-12-31 11:03:00</td>\n",
       "      <td>1407.05</td>\n",
       "      <td>1407.89</td>\n",
       "      <td>1406.86</td>\n",
       "      <td>1407.89</td>\n",
       "    </tr>\n",
       "    <tr>\n",
       "      <th>4</th>\n",
       "      <td>2012-12-31 11:04:00</td>\n",
       "      <td>1407.77</td>\n",
       "      <td>1409.13</td>\n",
       "      <td>1407.77</td>\n",
       "      <td>1409.13</td>\n",
       "    </tr>\n",
       "  </tbody>\n",
       "</table>\n",
       "</div>"
      ],
      "text/plain": [
       "             datetime     open     high      low    close\n",
       "0 2012-12-31 11:00:00  1405.22  1405.33  1405.14  1405.28\n",
       "1 2012-12-31 11:01:00  1405.29  1406.35  1405.27  1406.35\n",
       "2 2012-12-31 11:02:00  1406.59  1408.14  1406.59  1407.06\n",
       "3 2012-12-31 11:03:00  1407.05  1407.89  1406.86  1407.89\n",
       "4 2012-12-31 11:04:00  1407.77  1409.13  1407.77  1409.13"
      ]
     },
     "execution_count": 9,
     "metadata": {},
     "output_type": "execute_result"
    }
   ],
   "source": [
    "data.head()"
   ]
  },
  {
   "cell_type": "code",
   "execution_count": null,
   "metadata": {},
   "outputs": [],
   "source": []
  }
 ],
 "metadata": {
  "kernelspec": {
   "display_name": "Python 3",
   "language": "python",
   "name": "python3"
  },
  "language_info": {
   "codemirror_mode": {
    "name": "ipython",
    "version": 3
   },
   "file_extension": ".py",
   "mimetype": "text/x-python",
   "name": "python",
   "nbconvert_exporter": "python",
   "pygments_lexer": "ipython3",
   "version": "3.7.3"
  }
 },
 "nbformat": 4,
 "nbformat_minor": 2
}
