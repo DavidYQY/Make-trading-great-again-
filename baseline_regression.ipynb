{
 "cells": [
  {
   "cell_type": "code",
   "execution_count": 100,
   "metadata": {},
   "outputs": [],
   "source": [
    "import json\n",
    "import collections\n",
    "import matplotlib.pyplot as plt\n",
    "import numpy as np\n",
    "import re\n",
    "import csv\n",
    "import pandas as pd\n",
    "import nltk\n",
    "from sklearn import preprocessing\n",
    "import time\n",
    "from datetime import datetime\n",
    "from datetime import timedelta\n",
    "\n",
    "from sklearn.linear_model import LinearRegression\n",
    "from sklearn.neighbors import KNeighborsRegressor\n",
    "from sklearn.linear_model import LassoCV\n",
    "from sklearn.ensemble import RandomForestRegressor\n",
    "\n",
    "from sklearn.metrics import mean_squared_error\n",
    "from sklearn.preprocessing import MinMaxScaler\n",
    "from sklearn.model_selection import train_test_split"
   ]
  },
  {
   "cell_type": "code",
   "execution_count": 101,
   "metadata": {},
   "outputs": [],
   "source": [
    "def release_base_dat():\n",
    "    with open('data/processed_trumptwitterarchive.txt', 'r') as data_file:\n",
    "        json_data = data_file.read()\n",
    "\n",
    "    data = json.loads(json_data)\n",
    "\n",
    "    times = [d['created_at'] for d in data]\n",
    "    favorite_count = [d['favorite_count'] for d in data]\n",
    "    retweet_count = [d['retweet_count'] for d in data]\n",
    "    texts = [\" \".join(d['processed_text']) for d in data]\n",
    "    baseline_dat = pd.DataFrame({'created_time': pd.to_datetime(times),\n",
    "#                                 'favorite_count': favorite_count, \n",
    "#                                'retweet_count': retweet_count, \n",
    "                                'texts': texts})  # not including favorite_count and retweet_count\n",
    "\n",
    "    top_20_words = [\"china\", \"billion\", \"products\", \"democrats\", \"great\",\"dollars\",\"tariffs\",\"country\", \"mueller\",\"border\",\\\n",
    "                     \"president\", \"congressman\", \"people\", \"korea\", \"party\", \"years\", \"farmers\", \"going\", \"trade\", \"never\"]\n",
    "\n",
    "    for word in top_20_words:\n",
    "        baseline_dat[word] = baseline_dat['texts'].apply(lambda x: 1 if word in x else 0)\n",
    "\n",
    "    display(baseline_dat.head())\n",
    "    baseline_dat.to_csv('data/baseline_data_no_count.csv', index = False)"
   ]
  },
  {
   "cell_type": "code",
   "execution_count": 102,
   "metadata": {},
   "outputs": [],
   "source": [
    "def merge_data(baseline_dir = 'data/baseline_data_no_count.csv', \n",
    "               senti_dir = 'data/sentimentAnalysis/senti.csv', \n",
    "               spx_dir = 'data/all_cleaned_SPX_data.csv', \n",
    "               m = 5):\n",
    "    \n",
    "    df1= pd.read_csv(baseline_dir)\n",
    "    senti_data = pd.read_csv(senti_dir)\n",
    "    df2 = senti_data[['time', 'positive_count', 'negative_count']]\n",
    "    df = pd.merge(df1, df2, left_on = 'created_time', right_on='time').drop(['time'], axis=1)\n",
    "    \n",
    "    df['created_time'] = df['created_time'].apply(lambda x: pd.to_datetime(x))\n",
    "    df['begin_time'] = df['created_time'].dt.floor('1min')\n",
    "    df['end_time'] = df['begin_time'] + timedelta(minutes=m)\n",
    "    \n",
    "    data_econ = pd.read_csv('data/all_cleaned_SPX_data.csv')\n",
    "    data_econ['datetime'] = pd.to_datetime(data_econ['datetime'], utc = True)\n",
    "    df_econ = data_econ[['datetime', 'close']]\n",
    "    \n",
    "    df_merge1 = pd.merge(df, df_econ, left_on = 'begin_time', right_on='datetime').drop(['datetime'], axis=1)\n",
    "    df_merge2 = pd.merge(df_merge1, df_econ, left_on = 'end_time', right_on='datetime').drop(['datetime'], axis=1)\n",
    "    \n",
    "    df_merge2['returns'] = df_merge2['close_y']/df_merge2['close_x']-1\n",
    "    \n",
    "    df_all = df_merge2.drop(['created_time','begin_time','end_time', 'close_x','close_y', 'texts'], axis=1)\n",
    "    \n",
    "    return df_all\n",
    "    "
   ]
  },
  {
   "cell_type": "code",
   "execution_count": 128,
   "metadata": {},
   "outputs": [],
   "source": [
    "def no_econ_data(baseline_dir = 'data/baseline_data_no_count.csv',\n",
    "                 senti_dir = 'data/sentimentAnalysis/senti.csv'):\n",
    "    '''\n",
    "    Combine only baseline and sentiment analysis, WITHOUT response variable\n",
    "    \n",
    "    To do more EDA on features\n",
    "    '''\n",
    "    df1= pd.read_csv(baseline_dir)\n",
    "    senti_data = pd.read_csv(senti_dir)\n",
    "    df2 = senti_data[['time', 'positive_count', 'negative_count']]\n",
    "    df = pd.merge(df1, df2, left_on = 'created_time', right_on='time').drop(['time'], axis=1)\n",
    "    \n",
    "    df['created_time'] = df['created_time'].apply(lambda x: pd.to_datetime(x))\n",
    "    df['begin_time'] = df['created_time'].dt.floor('1min')\n",
    "    \n",
    "    df_all = df.drop(['created_time','texts'], axis=1)\n",
    "    \n",
    "    # before and after the 140->280 character expansion\n",
    "    df_before = df_all.loc[df[\"begin_time\"] <= \"2017-11-7\",].drop([\"begin_time\"], axis = 1)\n",
    "    df_after = df_all.loc[df[\"begin_time\"] > \"2017-11-7\",].drop([\"begin_time\"], axis = 1)\n",
    "    \n",
    "    return df_before, df_after\n",
    "\n"
   ]
  },
  {
   "cell_type": "code",
   "execution_count": 129,
   "metadata": {},
   "outputs": [],
   "source": [
    "df_before, df_after = no_econ_data()"
   ]
  },
  {
   "cell_type": "code",
   "execution_count": 130,
   "metadata": {},
   "outputs": [
    {
     "data": {
      "text/html": [
       "<div>\n",
       "<style scoped>\n",
       "    .dataframe tbody tr th:only-of-type {\n",
       "        vertical-align: middle;\n",
       "    }\n",
       "\n",
       "    .dataframe tbody tr th {\n",
       "        vertical-align: top;\n",
       "    }\n",
       "\n",
       "    .dataframe thead th {\n",
       "        text-align: right;\n",
       "    }\n",
       "</style>\n",
       "<table border=\"1\" class=\"dataframe\">\n",
       "  <thead>\n",
       "    <tr style=\"text-align: right;\">\n",
       "      <th></th>\n",
       "      <th>china</th>\n",
       "      <th>billion</th>\n",
       "      <th>products</th>\n",
       "      <th>democrats</th>\n",
       "      <th>great</th>\n",
       "      <th>dollars</th>\n",
       "      <th>tariffs</th>\n",
       "      <th>country</th>\n",
       "      <th>mueller</th>\n",
       "      <th>border</th>\n",
       "      <th>...</th>\n",
       "      <th>people</th>\n",
       "      <th>korea</th>\n",
       "      <th>party</th>\n",
       "      <th>years</th>\n",
       "      <th>farmers</th>\n",
       "      <th>going</th>\n",
       "      <th>trade</th>\n",
       "      <th>never</th>\n",
       "      <th>positive_count</th>\n",
       "      <th>negative_count</th>\n",
       "    </tr>\n",
       "  </thead>\n",
       "  <tbody>\n",
       "    <tr>\n",
       "      <th>11011</th>\n",
       "      <td>0</td>\n",
       "      <td>0</td>\n",
       "      <td>0</td>\n",
       "      <td>0</td>\n",
       "      <td>0</td>\n",
       "      <td>0</td>\n",
       "      <td>0</td>\n",
       "      <td>1</td>\n",
       "      <td>0</td>\n",
       "      <td>0</td>\n",
       "      <td>...</td>\n",
       "      <td>0</td>\n",
       "      <td>0</td>\n",
       "      <td>0</td>\n",
       "      <td>0</td>\n",
       "      <td>0</td>\n",
       "      <td>0</td>\n",
       "      <td>0</td>\n",
       "      <td>0</td>\n",
       "      <td>0</td>\n",
       "      <td>1</td>\n",
       "    </tr>\n",
       "    <tr>\n",
       "      <th>11012</th>\n",
       "      <td>0</td>\n",
       "      <td>0</td>\n",
       "      <td>0</td>\n",
       "      <td>0</td>\n",
       "      <td>1</td>\n",
       "      <td>0</td>\n",
       "      <td>0</td>\n",
       "      <td>0</td>\n",
       "      <td>0</td>\n",
       "      <td>0</td>\n",
       "      <td>...</td>\n",
       "      <td>0</td>\n",
       "      <td>0</td>\n",
       "      <td>0</td>\n",
       "      <td>0</td>\n",
       "      <td>0</td>\n",
       "      <td>0</td>\n",
       "      <td>0</td>\n",
       "      <td>0</td>\n",
       "      <td>2</td>\n",
       "      <td>0</td>\n",
       "    </tr>\n",
       "    <tr>\n",
       "      <th>11013</th>\n",
       "      <td>0</td>\n",
       "      <td>0</td>\n",
       "      <td>0</td>\n",
       "      <td>0</td>\n",
       "      <td>0</td>\n",
       "      <td>0</td>\n",
       "      <td>0</td>\n",
       "      <td>0</td>\n",
       "      <td>0</td>\n",
       "      <td>0</td>\n",
       "      <td>...</td>\n",
       "      <td>0</td>\n",
       "      <td>1</td>\n",
       "      <td>0</td>\n",
       "      <td>0</td>\n",
       "      <td>0</td>\n",
       "      <td>0</td>\n",
       "      <td>0</td>\n",
       "      <td>0</td>\n",
       "      <td>2</td>\n",
       "      <td>0</td>\n",
       "    </tr>\n",
       "    <tr>\n",
       "      <th>11014</th>\n",
       "      <td>0</td>\n",
       "      <td>0</td>\n",
       "      <td>0</td>\n",
       "      <td>0</td>\n",
       "      <td>1</td>\n",
       "      <td>0</td>\n",
       "      <td>0</td>\n",
       "      <td>1</td>\n",
       "      <td>0</td>\n",
       "      <td>0</td>\n",
       "      <td>...</td>\n",
       "      <td>0</td>\n",
       "      <td>0</td>\n",
       "      <td>0</td>\n",
       "      <td>0</td>\n",
       "      <td>0</td>\n",
       "      <td>0</td>\n",
       "      <td>0</td>\n",
       "      <td>0</td>\n",
       "      <td>2</td>\n",
       "      <td>0</td>\n",
       "    </tr>\n",
       "    <tr>\n",
       "      <th>11015</th>\n",
       "      <td>0</td>\n",
       "      <td>0</td>\n",
       "      <td>0</td>\n",
       "      <td>0</td>\n",
       "      <td>0</td>\n",
       "      <td>0</td>\n",
       "      <td>0</td>\n",
       "      <td>0</td>\n",
       "      <td>0</td>\n",
       "      <td>0</td>\n",
       "      <td>...</td>\n",
       "      <td>0</td>\n",
       "      <td>0</td>\n",
       "      <td>0</td>\n",
       "      <td>0</td>\n",
       "      <td>0</td>\n",
       "      <td>0</td>\n",
       "      <td>0</td>\n",
       "      <td>0</td>\n",
       "      <td>0</td>\n",
       "      <td>1</td>\n",
       "    </tr>\n",
       "  </tbody>\n",
       "</table>\n",
       "<p>5 rows × 22 columns</p>\n",
       "</div>"
      ],
      "text/plain": [
       "       china  billion  products  democrats  great  dollars  tariffs  country  \\\n",
       "11011      0        0         0          0      0        0        0        1   \n",
       "11012      0        0         0          0      1        0        0        0   \n",
       "11013      0        0         0          0      0        0        0        0   \n",
       "11014      0        0         0          0      1        0        0        1   \n",
       "11015      0        0         0          0      0        0        0        0   \n",
       "\n",
       "       mueller  border  ...  people  korea  party  years  farmers  going  \\\n",
       "11011        0       0  ...       0      0      0      0        0      0   \n",
       "11012        0       0  ...       0      0      0      0        0      0   \n",
       "11013        0       0  ...       0      1      0      0        0      0   \n",
       "11014        0       0  ...       0      0      0      0        0      0   \n",
       "11015        0       0  ...       0      0      0      0        0      0   \n",
       "\n",
       "       trade  never  positive_count  negative_count  \n",
       "11011      0      0               0               1  \n",
       "11012      0      0               2               0  \n",
       "11013      0      0               2               0  \n",
       "11014      0      0               2               0  \n",
       "11015      0      0               0               1  \n",
       "\n",
       "[5 rows x 22 columns]"
      ]
     },
     "execution_count": 130,
     "metadata": {},
     "output_type": "execute_result"
    }
   ],
   "source": [
    "df_before.head()"
   ]
  },
  {
   "cell_type": "code",
   "execution_count": 164,
   "metadata": {},
   "outputs": [
    {
     "data": {
      "image/png": "[encoded data removed]",
      "text/plain": [
       "<Figure size 432x288 with 1 Axes>"
      ]
     },
     "metadata": {
      "needs_background": "light"
     },
     "output_type": "display_data"
    }
   ],
   "source": [
    "pos_neg_before = df_before.apply(axis = 0, func = np.mean)[[-2,-1]]\n",
    "pos_neg_after = df_after.apply(axis = 0, func = np.mean)[[-2,-1]]\n",
    "pos_neg = pd.DataFrame(list(zip(pos_neg_before, pos_neg_after)), \n",
    "                       columns = [\"before\", \"after\"],\n",
    "                       index = [\"pos count\", \"neg count\"])\n",
    "pos_neg.plot.bar(title = \"Positive and Negative Word Counts Before and After 280 Characters\")\n",
    "plt.savefig('pos_neg.png', dpi=1200, bbox_inches = \"tight\")"
   ]
  },
  {
   "cell_type": "code",
   "execution_count": 165,
   "metadata": {},
   "outputs": [
    {
     "data": {
      "image/png": "[encoded data removed]",
      "text/plain": [
       "<Figure size 432x288 with 1 Axes>"
      ]
     },
     "metadata": {
      "needs_background": "light"
     },
     "output_type": "display_data"
    }
   ],
   "source": [
    "rest_before = df_before.apply(axis = 0, func = np.mean)[1:-2]\n",
    "rest_after = df_after.apply(axis = 0, func = np.mean)[1:-2]\n",
    "rest = pd.DataFrame(list(zip(rest_before, rest_after)),\n",
    "                    columns = [\"before\", \"after\"],\n",
    "                    index = df_before.columns[1:-2])\n",
    "rest.plot.bar(title = \"Key Word Counts Before and After 280 Characters\")\n",
    "plt.savefig('key_word.png', dpi=1200, bbox_inches = \"tight\")"
   ]
  },
  {
   "cell_type": "code",
   "execution_count": 103,
   "metadata": {},
   "outputs": [],
   "source": [
    "def regression_models(df_all):\n",
    "    df_all = df_all.copy()\n",
    "    X_train, X_test, y_train, y_test =train_test_split(df_all.loc[:, df_all.columns != 'returns'], \n",
    "                                                         df_all.returns, test_size=0.2)\n",
    "    \n",
    "    scores = {}\n",
    "    min_max_scaler = MinMaxScaler().fit(X_train)\n",
    "    xtrain_scaled = min_max_scaler.transform(X_train.values)\n",
    "    xtest_scaled = min_max_scaler.transform(X_test.values)\n",
    "    X_train_scaled = pd.DataFrame(xtrain_scaled, columns = X_train.columns, index = X_train.index)\n",
    "    X_test_scaled = pd.DataFrame(xtest_scaled, columns = X_test.columns, index = X_test.index)\n",
    "    \n",
    "    # Linear Regression\n",
    "    Linear_model = LinearRegression()\n",
    "    Linear_model.fit(X_train_scaled, y_train)\n",
    " \n",
    "    # Lasso cv\n",
    "    CV_lasso = LassoCV(cv = 3, max_iter = 10000)\n",
    "    CV_lasso.fit(X_train_scaled, y_train)\n",
    "    \n",
    "    # randomforest\n",
    "    rf = RandomForestRegressor(n_estimators = 10)\n",
    "    rf.fit(X_train_scaled,y_train)\n",
    "    \n",
    "    models = [Linear_model, CV_lasso, rf]\n",
    "    names = ['Linear Regression', \"Lasso CV\", \"randomforest\"]\n",
    "    \n",
    "    for name, model in zip(names, models):\n",
    "        scores[name] = [mean_squared_error(model.predict(X_train_scaled), y_train), mean_squared_error(model.predict(X_test_scaled), y_test)]\n",
    "    \n",
    "    return scores\n"
   ]
  },
  {
   "cell_type": "code",
   "execution_count": 104,
   "metadata": {},
   "outputs": [
    {
     "data": {
      "text/plain": [
       "{'Linear Regression': [4.2665927361060296e-07, 4.0779234225581877e-07],\n",
       " 'Lasso CV': [4.2672627408401333e-07, 4.0711248556942887e-07],\n",
       " 'randomforest': [3.8215462939396e-07, 4.458821902269748e-07]}"
      ]
     },
     "execution_count": 104,
     "metadata": {},
     "output_type": "execute_result"
    }
   ],
   "source": [
    "regression_models(merge_data())"
   ]
  },
  {
   "cell_type": "code",
   "execution_count": 105,
   "metadata": {
    "scrolled": true
   },
   "outputs": [],
   "source": [
    "def combined(m, times = 5):\n",
    "    df_all = merge_data(m = m)\n",
    "    \n",
    "    import collections\n",
    "    names = ['Linear Regression', \"Lasso CV\", \"randomforest\"]\n",
    "    scores = collections.defaultdict(list)\n",
    "    for i in range(times):\n",
    "        temp = regression_models(df_all)\n",
    "        for n in names:\n",
    "            scores[n].append(temp[n][1]) # only test score\n",
    "            \n",
    "    for n in names:\n",
    "        scores[n] = np.mean(scores[n])\n",
    "    return scores"
   ]
  },
  {
   "cell_type": "code",
   "execution_count": 106,
   "metadata": {},
   "outputs": [
    {
     "name": "stderr",
     "output_type": "stream",
     "text": [
      "\n",
      "  0%|          | 0/20 [00:00<?, ?it/s]\u001b[A\n",
      "  5%|▌         | 1/20 [00:03<01:09,  3.64s/it]\u001b[A\n",
      " 10%|█         | 2/20 [00:07<01:07,  3.75s/it]\u001b[A\n",
      " 15%|█▌        | 3/20 [00:11<01:04,  3.81s/it]\u001b[A\n",
      " 20%|██        | 4/20 [00:15<01:01,  3.87s/it]\u001b[A\n",
      " 25%|██▌       | 5/20 [00:19<00:58,  3.91s/it]\u001b[A\n",
      " 30%|███       | 6/20 [00:23<00:55,  3.93s/it]\u001b[A\n",
      " 35%|███▌      | 7/20 [00:27<00:51,  3.93s/it]\u001b[A\n",
      " 40%|████      | 8/20 [00:31<00:47,  3.96s/it]\u001b[A\n",
      " 45%|████▌     | 9/20 [00:35<00:43,  3.95s/it]\u001b[A\n",
      " 50%|█████     | 10/20 [00:39<00:39,  3.95s/it]\u001b[A\n",
      " 55%|█████▌    | 11/20 [00:43<00:35,  3.97s/it]\u001b[A\n",
      " 60%|██████    | 12/20 [00:47<00:31,  3.97s/it]\u001b[A\n",
      " 65%|██████▌   | 13/20 [00:51<00:27,  3.96s/it]\u001b[A\n",
      " 70%|███████   | 14/20 [00:55<00:23,  3.96s/it]\u001b[A\n",
      " 75%|███████▌  | 15/20 [00:59<00:19,  3.97s/it]\u001b[A\n",
      " 80%|████████  | 16/20 [01:03<00:15,  3.96s/it]\u001b[A\n",
      " 85%|████████▌ | 17/20 [01:07<00:11,  3.95s/it]\u001b[A\n",
      " 90%|█████████ | 18/20 [01:11<00:07,  3.94s/it]\u001b[A\n",
      " 95%|█████████▌| 19/20 [01:15<00:03,  3.97s/it]\u001b[A\n",
      "100%|██████████| 20/20 [01:19<00:00,  3.99s/it]\u001b[A"
     ]
    }
   ],
   "source": [
    "from tqdm import tqdm\n",
    "scores = {}\n",
    "ms = range(1, 60, 3)\n",
    "for m in tqdm(ms):\n",
    "    scores[m] = combined(m) "
   ]
  },
  {
   "cell_type": "code",
   "execution_count": 107,
   "metadata": {
    "scrolled": false
   },
   "outputs": [
    {
     "data": {
      "text/plain": [
       "<matplotlib.legend.Legend at 0x1a46e574e0>"
      ]
     },
     "execution_count": 107,
     "metadata": {},
     "output_type": "execute_result"
    },
    {
     "data": {
      "image/png": "[encoded data removed]",
      "text/plain": [
       "<Figure size 720x504 with 1 Axes>"
      ]
     },
     "metadata": {
      "needs_background": "light"
     },
     "output_type": "display_data"
    }
   ],
   "source": [
    "fig, ax = plt.subplots(1,1,figsize = (10,7))\n",
    "names = ['Linear Regression', \"Lasso CV\", \"randomforest\"]\n",
    "for n in names:\n",
    "    test_scores = [score[n] for score in scores.values()]\n",
    "    ax.plot(ms, test_scores, label = n)\n",
    "    ax.set_xlabel('minutes')\n",
    "    ax.set_ylabel('test set mse')\n",
    "    ax.set_title('Test Set MSE for Different After-tweet Time Interval')\n",
    "ax.legend()"
   ]
  },
  {
   "cell_type": "code",
   "execution_count": 108,
   "metadata": {},
   "outputs": [],
   "source": [
    "fig.savefig('test_set_mse.png', dpi=1200)"
   ]
  },
  {
   "cell_type": "code",
   "execution_count": null,
   "metadata": {},
   "outputs": [],
   "source": []
  }
 ],
 "metadata": {
  "kernelspec": {
   "display_name": "Python 3",
   "language": "python",
   "name": "python3"
  },
  "language_info": {
   "codemirror_mode": {
    "name": "ipython",
    "version": 3
   },
   "file_extension": ".py",
   "mimetype": "text/x-python",
   "name": "python",
   "nbconvert_exporter": "python",
   "pygments_lexer": "ipython3",
   "version": "3.7.3"
  }
 },
 "nbformat": 4,
 "nbformat_minor": 2
}
