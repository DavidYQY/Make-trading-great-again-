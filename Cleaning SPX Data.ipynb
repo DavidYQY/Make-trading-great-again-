{
 "cells": [
  {
   "cell_type": "code",
   "execution_count": 142,
   "metadata": {},
   "outputs": [],
   "source": [
    "import numpy as np\n",
    "import pandas as pd"
   ]
  },
  {
   "cell_type": "code",
   "execution_count": 148,
   "metadata": {},
   "outputs": [],
   "source": [
    "def spx_process(filename):\n",
    "    raw = pd.read_csv(filename, \n",
    "                      names = [\"datetime\", \"open\", \"high\", \"low\", \"close\"])\n",
    "    raw.datetime = pd.to_datetime(raw.datetime, format = '%Y.%m.%d %H:%M:%S')\n",
    "    raw[\"date\"] = raw.datetime.dt.date\n",
    "    raw[\"time\"] = raw.datetime.dt.time\n",
    "    if filename == \"SPX_2014_12.csv\":\n",
    "        data = raw.loc[raw.datetime > \"2013-01-01\",:]\n",
    "    elif filename == \"SPX_2016_12.csv\":\n",
    "        data = raw.loc[raw.datetime > \"2015-01-01\",:]\n",
    "    else:\n",
    "        data = raw\n",
    "    before_930 = pd.to_timedelta(data.time.astype(str)) < pd.to_timedelta('09:30:00')\n",
    "    after_359 = pd.to_timedelta(data.time.astype(str)) > pd.to_timedelta('15:59:00')\n",
    "    delete_index = before_930 | after_359\n",
    "    data = data.loc[~delete_index,:]\n",
    "    data = data.reset_index().drop(columns = [\"index\", \"time\", \"date\"])\n",
    "    return data"
   ]
  },
  {
   "cell_type": "code",
   "execution_count": 149,
   "metadata": {},
   "outputs": [],
   "source": [
    "data1 = spx_process(\"SPX_2014_12.csv\")"
   ]
  },
  {
   "cell_type": "code",
   "execution_count": 150,
   "metadata": {},
   "outputs": [],
   "source": [
    "data2 = spx_process(\"SPX_2016_12.csv\")"
   ]
  },
  {
   "cell_type": "code",
   "execution_count": 151,
   "metadata": {},
   "outputs": [],
   "source": [
    "data3 = spx_process(\"SPX_2018_12.csv\")"
   ]
  },
  {
   "cell_type": "code",
   "execution_count": 152,
   "metadata": {},
   "outputs": [],
   "source": [
    "data4 = spx_process(\"SPX_2019_12.csv\")"
   ]
  },
  {
   "cell_type": "code",
   "execution_count": null,
   "metadata": {},
   "outputs": [],
   "source": []
  },
  {
   "cell_type": "code",
   "execution_count": 153,
   "metadata": {},
   "outputs": [],
   "source": [
    "data = pd.concat([data1, data2, data3, data4], axis=0)"
   ]
  },
  {
   "cell_type": "code",
   "execution_count": 154,
   "metadata": {},
   "outputs": [],
   "source": [
    "data.to_csv('data/all_data.csv', index=False)"
   ]
  },
  {
   "cell_type": "code",
   "execution_count": null,
   "metadata": {},
   "outputs": [],
   "source": []
  }
 ],
 "metadata": {
  "kernelspec": {
   "display_name": "Python 3",
   "language": "python",
   "name": "python3"
  },
  "language_info": {
   "codemirror_mode": {
    "name": "ipython",
    "version": 3
   },
   "file_extension": ".py",
   "mimetype": "text/x-python",
   "name": "python",
   "nbconvert_exporter": "python",
   "pygments_lexer": "ipython3",
   "version": "3.7.3"
  }
 },
 "nbformat": 4,
 "nbformat_minor": 2
}
