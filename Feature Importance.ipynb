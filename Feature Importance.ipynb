{
 "cells": [
  {
   "cell_type": "code",
   "execution_count": 1,
   "metadata": {},
   "outputs": [],
   "source": [
    "import json\n",
    "import collections\n",
    "import matplotlib.pyplot as plt\n",
    "import numpy as np\n",
    "import re\n",
    "import csv\n",
    "import pandas as pd\n",
    "import nltk\n",
    "from sklearn import preprocessing\n",
    "import time\n",
    "from datetime import datetime\n",
    "from datetime import timedelta\n",
    "\n",
    "from sklearn.linear_model import LogisticRegression\n",
    "from sklearn.linear_model import LogisticRegressionCV\n",
    "from sklearn.metrics import accuracy_score\n",
    "from sklearn.preprocessing import MinMaxScaler\n",
    "from sklearn.model_selection import train_test_split"
   ]
  },
  {
   "cell_type": "code",
   "execution_count": 13,
   "metadata": {},
   "outputs": [],
   "source": [
    "def merge_data(baseline_dir = 'data/baseline_data2.csv', \n",
    "               senti_dir = 'data/sentimentAnalysis/senti.csv', \n",
    "               spx_dir = 'data/all_cleaned_SPX_data.csv', \n",
    "               threshold = 1e-4, \n",
    "               m = 5,\n",
    "              text_included = False):\n",
    "    \n",
    "    df1= pd.read_csv(baseline_dir)\n",
    "    senti_data = pd.read_csv(senti_dir)\n",
    "    df2 = senti_data[['time', 'positive_count', 'negative_count']]\n",
    "    df = pd.merge(df1, df2, left_on = 'created_time', right_on='time').drop(['time'], axis=1)\n",
    "    \n",
    "    df['created_time'] = df['created_time'].apply(lambda x: pd.to_datetime(x))\n",
    "    df['begin_time'] = df['created_time'].dt.floor('1min')\n",
    "    df['end_time'] = df['begin_time'] + timedelta(minutes=m)\n",
    "    \n",
    "    data_econ = pd.read_csv('data/all_cleaned_SPX_data.csv')\n",
    "    data_econ['datetime'] = pd.to_datetime(data_econ['datetime'], utc = True)\n",
    "    df_econ = data_econ[['datetime', 'close']]\n",
    "    \n",
    "    df_merge1 = pd.merge(df, df_econ, left_on = 'begin_time', right_on='datetime').drop(['datetime'], axis=1)\n",
    "    df_merge2 = pd.merge(df_merge1, df_econ, left_on = 'end_time', right_on='datetime').drop(['datetime'], axis=1)\n",
    "    \n",
    "    df_merge2['label'] = np.where(df_merge2['close_y'] > df_merge2['close_x'], 1, -1)\n",
    "    medium1 = df_merge2['close_y'] / df_merge2['close_x'] > (1-threshold)\n",
    "    medium2 = df_merge2['close_y'] / df_merge2['close_x'] < (1+threshold)\n",
    "    medium = medium1 & medium2\n",
    "    df_merge2['label'][medium] = 0\n",
    "    \n",
    "    if text_included:\n",
    "        df_all = df_merge2.drop(['created_time','begin_time','end_time', 'close_x','close_y'], axis=1)\n",
    "    else:\n",
    "        df_all = df_merge2.drop(['created_time','begin_time','end_time', 'close_x','close_y','texts'], axis=1)\n",
    "\n",
    "    df_all['retweet'] = np.where(df_all['favorite_count'] == 0, 1, 0)\n",
    "\n",
    "    return df_all\n",
    "    "
   ]
  },
  {
   "cell_type": "code",
   "execution_count": 4,
   "metadata": {},
   "outputs": [
    {
     "name": "stderr",
     "output_type": "stream",
     "text": [
      "C:\\Users\\for_y\\Anaconda3\\lib\\site-packages\\ipykernel_launcher.py:27: SettingWithCopyWarning: \n",
      "A value is trying to be set on a copy of a slice from a DataFrame\n",
      "\n",
      "See the caveats in the documentation: http://pandas.pydata.org/pandas-docs/stable/user_guide/indexing.html#returning-a-view-versus-a-copy\n"
     ]
    },
    {
     "data": {
      "text/html": [
       "<div>\n",
       "<style scoped>\n",
       "    .dataframe tbody tr th:only-of-type {\n",
       "        vertical-align: middle;\n",
       "    }\n",
       "\n",
       "    .dataframe tbody tr th {\n",
       "        vertical-align: top;\n",
       "    }\n",
       "\n",
       "    .dataframe thead th {\n",
       "        text-align: right;\n",
       "    }\n",
       "</style>\n",
       "<table border=\"1\" class=\"dataframe\">\n",
       "  <thead>\n",
       "    <tr style=\"text-align: right;\">\n",
       "      <th></th>\n",
       "      <th>favorite_count</th>\n",
       "      <th>retweet_count</th>\n",
       "      <th>china</th>\n",
       "      <th>billion</th>\n",
       "      <th>products</th>\n",
       "      <th>democrats</th>\n",
       "      <th>great</th>\n",
       "      <th>dollars</th>\n",
       "      <th>tariffs</th>\n",
       "      <th>country</th>\n",
       "      <th>...</th>\n",
       "      <th>party</th>\n",
       "      <th>years</th>\n",
       "      <th>farmers</th>\n",
       "      <th>going</th>\n",
       "      <th>trade</th>\n",
       "      <th>never</th>\n",
       "      <th>positive_count</th>\n",
       "      <th>negative_count</th>\n",
       "      <th>label</th>\n",
       "      <th>retweet</th>\n",
       "    </tr>\n",
       "  </thead>\n",
       "  <tbody>\n",
       "    <tr>\n",
       "      <td>0</td>\n",
       "      <td>114187</td>\n",
       "      <td>20211</td>\n",
       "      <td>0</td>\n",
       "      <td>0</td>\n",
       "      <td>0</td>\n",
       "      <td>0</td>\n",
       "      <td>0</td>\n",
       "      <td>0</td>\n",
       "      <td>0</td>\n",
       "      <td>0</td>\n",
       "      <td>...</td>\n",
       "      <td>0</td>\n",
       "      <td>0</td>\n",
       "      <td>0</td>\n",
       "      <td>0</td>\n",
       "      <td>0</td>\n",
       "      <td>0</td>\n",
       "      <td>1</td>\n",
       "      <td>0</td>\n",
       "      <td>1</td>\n",
       "      <td>0</td>\n",
       "    </tr>\n",
       "    <tr>\n",
       "      <td>1</td>\n",
       "      <td>72619</td>\n",
       "      <td>18328</td>\n",
       "      <td>0</td>\n",
       "      <td>0</td>\n",
       "      <td>0</td>\n",
       "      <td>0</td>\n",
       "      <td>0</td>\n",
       "      <td>0</td>\n",
       "      <td>0</td>\n",
       "      <td>0</td>\n",
       "      <td>...</td>\n",
       "      <td>0</td>\n",
       "      <td>0</td>\n",
       "      <td>0</td>\n",
       "      <td>0</td>\n",
       "      <td>0</td>\n",
       "      <td>0</td>\n",
       "      <td>1</td>\n",
       "      <td>3</td>\n",
       "      <td>-1</td>\n",
       "      <td>0</td>\n",
       "    </tr>\n",
       "    <tr>\n",
       "      <td>2</td>\n",
       "      <td>83333</td>\n",
       "      <td>24007</td>\n",
       "      <td>0</td>\n",
       "      <td>0</td>\n",
       "      <td>0</td>\n",
       "      <td>0</td>\n",
       "      <td>0</td>\n",
       "      <td>0</td>\n",
       "      <td>0</td>\n",
       "      <td>0</td>\n",
       "      <td>...</td>\n",
       "      <td>0</td>\n",
       "      <td>0</td>\n",
       "      <td>0</td>\n",
       "      <td>0</td>\n",
       "      <td>0</td>\n",
       "      <td>0</td>\n",
       "      <td>1</td>\n",
       "      <td>4</td>\n",
       "      <td>1</td>\n",
       "      <td>0</td>\n",
       "    </tr>\n",
       "    <tr>\n",
       "      <td>3</td>\n",
       "      <td>65540</td>\n",
       "      <td>14962</td>\n",
       "      <td>0</td>\n",
       "      <td>0</td>\n",
       "      <td>0</td>\n",
       "      <td>0</td>\n",
       "      <td>0</td>\n",
       "      <td>0</td>\n",
       "      <td>0</td>\n",
       "      <td>0</td>\n",
       "      <td>...</td>\n",
       "      <td>0</td>\n",
       "      <td>0</td>\n",
       "      <td>0</td>\n",
       "      <td>0</td>\n",
       "      <td>0</td>\n",
       "      <td>0</td>\n",
       "      <td>1</td>\n",
       "      <td>0</td>\n",
       "      <td>1</td>\n",
       "      <td>0</td>\n",
       "    </tr>\n",
       "    <tr>\n",
       "      <td>4</td>\n",
       "      <td>132078</td>\n",
       "      <td>35482</td>\n",
       "      <td>0</td>\n",
       "      <td>0</td>\n",
       "      <td>0</td>\n",
       "      <td>0</td>\n",
       "      <td>0</td>\n",
       "      <td>0</td>\n",
       "      <td>0</td>\n",
       "      <td>0</td>\n",
       "      <td>...</td>\n",
       "      <td>1</td>\n",
       "      <td>0</td>\n",
       "      <td>0</td>\n",
       "      <td>0</td>\n",
       "      <td>0</td>\n",
       "      <td>1</td>\n",
       "      <td>0</td>\n",
       "      <td>2</td>\n",
       "      <td>-1</td>\n",
       "      <td>0</td>\n",
       "    </tr>\n",
       "  </tbody>\n",
       "</table>\n",
       "<p>5 rows × 26 columns</p>\n",
       "</div>"
      ],
      "text/plain": [
       "   favorite_count  retweet_count  china  billion  products  democrats  great  \\\n",
       "0          114187          20211      0        0         0          0      0   \n",
       "1           72619          18328      0        0         0          0      0   \n",
       "2           83333          24007      0        0         0          0      0   \n",
       "3           65540          14962      0        0         0          0      0   \n",
       "4          132078          35482      0        0         0          0      0   \n",
       "\n",
       "   dollars  tariffs  country  ...  party  years  farmers  going  trade  never  \\\n",
       "0        0        0        0  ...      0      0        0      0      0      0   \n",
       "1        0        0        0  ...      0      0        0      0      0      0   \n",
       "2        0        0        0  ...      0      0        0      0      0      0   \n",
       "3        0        0        0  ...      0      0        0      0      0      0   \n",
       "4        0        0        0  ...      1      0        0      0      0      1   \n",
       "\n",
       "   positive_count  negative_count  label  retweet  \n",
       "0               1               0      1        0  \n",
       "1               1               3     -1        0  \n",
       "2               1               4      1        0  \n",
       "3               1               0      1        0  \n",
       "4               0               2     -1        0  \n",
       "\n",
       "[5 rows x 26 columns]"
      ]
     },
     "execution_count": 4,
     "metadata": {},
     "output_type": "execute_result"
    }
   ],
   "source": [
    "df_all = merge_data(threshold=0, m = 5)\n",
    "df_all.head()"
   ]
  },
  {
   "cell_type": "code",
   "execution_count": 5,
   "metadata": {},
   "outputs": [
    {
     "data": {
      "text/plain": [
       "RandomForestClassifier(bootstrap=True, class_weight=None, criterion='gini',\n",
       "                       max_depth=20, max_features='auto', max_leaf_nodes=None,\n",
       "                       min_impurity_decrease=0.0, min_impurity_split=None,\n",
       "                       min_samples_leaf=1, min_samples_split=2,\n",
       "                       min_weight_fraction_leaf=0.0, n_estimators=1000,\n",
       "                       n_jobs=None, oob_score=False, random_state=None,\n",
       "                       verbose=0, warm_start=False)"
      ]
     },
     "execution_count": 5,
     "metadata": {},
     "output_type": "execute_result"
    }
   ],
   "source": [
    "from sklearn.ensemble import RandomForestClassifier\n",
    "\n",
    "X_train, X_test, y_train, y_test =train_test_split(df_all.loc[:, df_all.columns != 'label'], \n",
    "                                                     df_all.label, test_size=0.2)\n",
    "\n",
    "scores = {}\n",
    "min_max_scaler = MinMaxScaler().fit(X_train)\n",
    "xtrain_scaled = min_max_scaler.transform(X_train.values)\n",
    "xtest_scaled = min_max_scaler.transform(X_test.values)\n",
    "X_train_scaled = pd.DataFrame(xtrain_scaled, columns = X_train.columns, index = X_train.index)\n",
    "X_test_scaled = pd.DataFrame(xtest_scaled, columns = X_test.columns, index = X_test.index)\n",
    "\n",
    "rf = RandomForestClassifier(max_depth=20, n_estimators=1000)\n",
    "rf.fit(X_train_scaled,y_train)"
   ]
  },
  {
   "cell_type": "code",
   "execution_count": 12,
   "metadata": {},
   "outputs": [
    {
     "name": "stdout",
     "output_type": "stream",
     "text": [
      "Feature ranking for randomforest:\n",
      "1. feature retweet_count (0.343987)\n",
      "2. feature favorite_count (0.288717)\n",
      "3. feature positive_count (0.097044)\n",
      "4. feature negative_count (0.082156)\n",
      "5. feature great (0.024202)\n",
      "6. feature president (0.022049)\n",
      "7. feature people (0.021058)\n",
      "8. feature country (0.019109)\n",
      "9. feature never (0.015959)\n",
      "10. feature going (0.014995)\n"
     ]
    },
    {
     "data": {
      "image/png": "[encoded data removed]",
      "text/plain": [
       "<Figure size 1080x504 with 1 Axes>"
      ]
     },
     "metadata": {
      "needs_background": "light"
     },
     "output_type": "display_data"
    }
   ],
   "source": [
    "def feature_importance(model, ax, name):\n",
    "    importances = model.feature_importances_\n",
    "    indices = np.argsort(importances)[::-1][:10]\n",
    "    print(\"Feature ranking for {}:\".format(name))\n",
    "    for f in range(10):\n",
    "        print(\"%d. feature %s (%f)\" % (f + 1, X_train.columns[indices[f]], importances[indices[f]]))\n",
    "\n",
    "    ax.set_title(\"Feature importances for {}\".format(name))\n",
    "    ax.bar(range(len(indices)), importances[indices],\n",
    "           color=\"r\", align=\"center\")\n",
    "    ax.set_xticks(np.arange(len(indices)))\n",
    "    ax.set_xticklabels(X_train.columns[indices], rotation = 15)\n",
    "    ax.set_xlim([-1, len(indices)])\n",
    "\n",
    "fig, ax = plt.subplots(1, 1, figsize = (15,7))\n",
    "feature_importance(rf, ax, \"randomforest\")"
   ]
  },
  {
   "cell_type": "code",
   "execution_count": 94,
   "metadata": {},
   "outputs": [
    {
     "name": "stderr",
     "output_type": "stream",
     "text": [
      "C:\\Users\\for_y\\Anaconda3\\lib\\site-packages\\ipykernel_launcher.py:28: SettingWithCopyWarning: \n",
      "A value is trying to be set on a copy of a slice from a DataFrame\n",
      "\n",
      "See the caveats in the documentation: http://pandas.pydata.org/pandas-docs/stable/user_guide/indexing.html#returning-a-view-versus-a-copy\n"
     ]
    }
   ],
   "source": [
    "# see impact of all the words\n",
    "\n",
    "JPmorgan_words = [\"china\", \"billion\", \"products\", \"democrats\", \"great\",\"dollars\",\"tariffs\",\"country\", \"mueller\",\"border\",\\\n",
    "                     \"president\", \"congressman\", \"people\", \"korea\", \"party\", \"years\", \"farmers\", \"going\", \"trade\", \"never\"]\n",
    "\n",
    "df_all = merge_data(threshold=0, m = 5, text_included=True)"
   ]
  },
  {
   "cell_type": "code",
   "execution_count": 95,
   "metadata": {},
   "outputs": [
    {
     "data": {
      "text/html": [
       "<div>\n",
       "<style scoped>\n",
       "    .dataframe tbody tr th:only-of-type {\n",
       "        vertical-align: middle;\n",
       "    }\n",
       "\n",
       "    .dataframe tbody tr th {\n",
       "        vertical-align: top;\n",
       "    }\n",
       "\n",
       "    .dataframe thead th {\n",
       "        text-align: right;\n",
       "    }\n",
       "</style>\n",
       "<table border=\"1\" class=\"dataframe\">\n",
       "  <thead>\n",
       "    <tr style=\"text-align: right;\">\n",
       "      <th></th>\n",
       "      <th>favorite_count</th>\n",
       "      <th>retweet_count</th>\n",
       "      <th>texts</th>\n",
       "      <th>positive_count</th>\n",
       "      <th>negative_count</th>\n",
       "      <th>label</th>\n",
       "      <th>retweet</th>\n",
       "    </tr>\n",
       "  </thead>\n",
       "  <tbody>\n",
       "    <tr>\n",
       "      <td>0</td>\n",
       "      <td>114187</td>\n",
       "      <td>20211</td>\n",
       "      <td>stock market big today new record enjoy</td>\n",
       "      <td>1</td>\n",
       "      <td>0</td>\n",
       "      <td>1</td>\n",
       "      <td>0</td>\n",
       "    </tr>\n",
       "    <tr>\n",
       "      <td>1</td>\n",
       "      <td>72619</td>\n",
       "      <td>18328</td>\n",
       "      <td>radical left dems lamestream medium trying mak...</td>\n",
       "      <td>1</td>\n",
       "      <td>3</td>\n",
       "      <td>-1</td>\n",
       "      <td>0</td>\n",
       "    </tr>\n",
       "    <tr>\n",
       "      <td>2</td>\n",
       "      <td>83333</td>\n",
       "      <td>24007</td>\n",
       "      <td>amazon washington post three lowlife reporter ...</td>\n",
       "      <td>1</td>\n",
       "      <td>4</td>\n",
       "      <td>1</td>\n",
       "      <td>0</td>\n",
       "    </tr>\n",
       "    <tr>\n",
       "      <td>3</td>\n",
       "      <td>65540</td>\n",
       "      <td>14962</td>\n",
       "      <td>thank #MAGA</td>\n",
       "      <td>1</td>\n",
       "      <td>0</td>\n",
       "      <td>1</td>\n",
       "      <td>0</td>\n",
       "    </tr>\n",
       "    <tr>\n",
       "      <td>4</td>\n",
       "      <td>132078</td>\n",
       "      <td>35482</td>\n",
       "      <td>explained next week fake hearing trial house i...</td>\n",
       "      <td>0</td>\n",
       "      <td>2</td>\n",
       "      <td>-1</td>\n",
       "      <td>0</td>\n",
       "    </tr>\n",
       "  </tbody>\n",
       "</table>\n",
       "</div>"
      ],
      "text/plain": [
       "   favorite_count  retweet_count  \\\n",
       "0          114187          20211   \n",
       "1           72619          18328   \n",
       "2           83333          24007   \n",
       "3           65540          14962   \n",
       "4          132078          35482   \n",
       "\n",
       "                                               texts  positive_count  \\\n",
       "0            stock market big today new record enjoy               1   \n",
       "1  radical left dems lamestream medium trying mak...               1   \n",
       "2  amazon washington post three lowlife reporter ...               1   \n",
       "3                                        thank #MAGA               1   \n",
       "4  explained next week fake hearing trial house i...               0   \n",
       "\n",
       "   negative_count  label  retweet  \n",
       "0               0      1        0  \n",
       "1               3     -1        0  \n",
       "2               4      1        0  \n",
       "3               0      1        0  \n",
       "4               2     -1        0  "
      ]
     },
     "execution_count": 95,
     "metadata": {},
     "output_type": "execute_result"
    }
   ],
   "source": [
    "df_all = df_all.drop(JPmorgan_words,axis = 1)\n",
    "df_all.head()"
   ]
  },
  {
   "cell_type": "code",
   "execution_count": 96,
   "metadata": {},
   "outputs": [],
   "source": [
    "df_all = df_all.dropna()\n",
    "\n",
    "from collections import Counter\n",
    "c = Counter(df_all['texts'].apply(lambda x: x.split()).sum())"
   ]
  },
  {
   "cell_type": "code",
   "execution_count": 97,
   "metadata": {},
   "outputs": [],
   "source": [
    "words = sorted(c.items(), key = lambda x: x[1], reverse = True)[:1000]\n",
    "words = [word[0] for word in words if len(word[0]) >=5]\n",
    "\n",
    "for word in words:\n",
    "    df_all[word] = df_all['texts'].apply(lambda x: 1 if word in x else 0)"
   ]
  },
  {
   "cell_type": "code",
   "execution_count": 98,
   "metadata": {},
   "outputs": [
    {
     "name": "stdout",
     "output_type": "stream",
     "text": [
      "(9532, 687)\n"
     ]
    }
   ],
   "source": [
    "df_all = df_all.drop(['texts', 'favorite_count', 'retweet_count','positive_count','negative_count','retweet'],axis = 1)\n",
    "print(df_all.shape)"
   ]
  },
  {
   "cell_type": "code",
   "execution_count": 99,
   "metadata": {},
   "outputs": [
    {
     "data": {
      "text/plain": [
       "RandomForestClassifier(bootstrap=True, class_weight=None, criterion='gini',\n",
       "                       max_depth=20, max_features='auto', max_leaf_nodes=None,\n",
       "                       min_impurity_decrease=0.0, min_impurity_split=None,\n",
       "                       min_samples_leaf=1, min_samples_split=2,\n",
       "                       min_weight_fraction_leaf=0.0, n_estimators=1000,\n",
       "                       n_jobs=None, oob_score=False, random_state=None,\n",
       "                       verbose=0, warm_start=False)"
      ]
     },
     "execution_count": 99,
     "metadata": {},
     "output_type": "execute_result"
    }
   ],
   "source": [
    "X_train, X_test, y_train, y_test =train_test_split(df_all.loc[:, df_all.columns != 'label'], \n",
    "                                                     df_all.label, test_size=0.2)\n",
    "\n",
    "scores = {}\n",
    "min_max_scaler = MinMaxScaler().fit(X_train)\n",
    "xtrain_scaled = min_max_scaler.transform(X_train.values)\n",
    "xtest_scaled = min_max_scaler.transform(X_test.values)\n",
    "X_train_scaled = pd.DataFrame(xtrain_scaled, columns = X_train.columns, index = X_train.index)\n",
    "X_test_scaled = pd.DataFrame(xtest_scaled, columns = X_test.columns, index = X_test.index)\n",
    "\n",
    "rf = RandomForestClassifier(max_depth=20, n_estimators=1000)\n",
    "rf.fit(X_train_scaled,y_train)"
   ]
  },
  {
   "cell_type": "code",
   "execution_count": 100,
   "metadata": {},
   "outputs": [
    {
     "data": {
      "text/plain": [
       "0.5369690613529103"
      ]
     },
     "execution_count": 100,
     "metadata": {},
     "output_type": "execute_result"
    }
   ],
   "source": [
    "rf.score(xtest_scaled, y_test)"
   ]
  },
  {
   "cell_type": "code",
   "execution_count": 101,
   "metadata": {},
   "outputs": [
    {
     "name": "stdout",
     "output_type": "stream",
     "text": [
      "Feature ranking for randomforest:\n",
      "1. feature wealth (0.010363)\n",
      "2. feature great (0.008362)\n",
      "3. feature country (0.008097)\n",
      "4. feature trump (0.007015)\n",
      "5. feature harassment (0.006576)\n",
      "6. feature president (0.006358)\n",
      "7. feature thing (0.006339)\n",
      "8. feature losing (0.006126)\n",
      "9. feature state (0.005648)\n",
      "10. feature people (0.005552)\n",
      "11. feature thank (0.005329)\n",
      "12. feature unemployment (0.005266)\n",
      "13. feature event (0.005170)\n",
      "14. feature america (0.005146)\n",
      "15. feature never (0.005072)\n",
      "16. feature china (0.004949)\n",
      "17. feature witch (0.004913)\n",
      "18. feature released (0.004788)\n",
      "19. feature twitter (0.004783)\n",
      "20. feature nation (0.004751)\n"
     ]
    },
    {
     "data": {
      "image/png": "[encoded data removed]",
      "text/plain": [
       "<Figure size 1080x504 with 1 Axes>"
      ]
     },
     "metadata": {
      "needs_background": "light"
     },
     "output_type": "display_data"
    }
   ],
   "source": [
    "def feature_importance(model, ax, name):\n",
    "    importances = model.feature_importances_\n",
    "    size = 20\n",
    "    indices = np.argsort(importances)[::-1][:size]\n",
    "    top_20_words = []\n",
    "    print(\"Feature ranking for {}:\".format(name))\n",
    "    for f in range(size):\n",
    "        top_20_words.append(X_train.columns[indices[f]])\n",
    "        print(\"%d. feature %s (%f)\" % (f + 1, X_train.columns[indices[f]], importances[indices[f]]))\n",
    "\n",
    "    ax.set_title(\"Feature importances for {}\".format(name))\n",
    "    ax.bar(range(len(indices)), importances[indices],\n",
    "           color=\"r\", align=\"center\")\n",
    "    ax.set_xticks(np.arange(len(indices)))\n",
    "    ax.set_xticklabels(X_train.columns[indices], rotation = 15)\n",
    "    ax.set_xlim([-1, len(indices)])\n",
    "    return top_20_words\n",
    "\n",
    "fig, ax = plt.subplots(1, 1, figsize = (15,7))\n",
    "top_20_word = feature_importance(rf, ax, \"randomforest\")"
   ]
  },
  {
   "cell_type": "code",
   "execution_count": 102,
   "metadata": {},
   "outputs": [
    {
     "data": {
      "text/plain": [
       "['wealth',\n",
       " 'great',\n",
       " 'country',\n",
       " 'trump',\n",
       " 'harassment',\n",
       " 'president',\n",
       " 'thing',\n",
       " 'losing',\n",
       " 'state',\n",
       " 'people',\n",
       " 'thank',\n",
       " 'unemployment',\n",
       " 'event',\n",
       " 'america',\n",
       " 'never',\n",
       " 'china',\n",
       " 'witch',\n",
       " 'released',\n",
       " 'twitter',\n",
       " 'nation']"
      ]
     },
     "execution_count": 102,
     "metadata": {},
     "output_type": "execute_result"
    }
   ],
   "source": [
    "top_20_word"
   ]
  }
 ],
 "metadata": {
  "kernelspec": {
   "display_name": "Python 3",
   "language": "python",
   "name": "python3"
  },
  "language_info": {
   "codemirror_mode": {
    "name": "ipython",
    "version": 3
   },
   "file_extension": ".py",
   "mimetype": "text/x-python",
   "name": "python",
   "nbconvert_exporter": "python",
   "pygments_lexer": "ipython3",
   "version": "3.7.4"
  }
 },
 "nbformat": 4,
 "nbformat_minor": 2
}
